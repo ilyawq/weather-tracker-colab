{
  "cells": [
    {
      "cell_type": "code",
      "source": "!pip install requests seaborn",
      "metadata": {},
      "outputs": [],
      "execution_count": null
    },
    {
      "cell_type": "code",
      "source": "import requests\nimport pandas as pd\nimport seaborn as sns\nimport matplotlib.pyplot as plt\nfrom datetime import datetime\n\nAPI_KEY = \"your_api_key_here\"\nBASE_URL = \"http://api.openweathermap.org/data/2.5/weather\"\nFORECAST_URL = \"http://api.openweathermap.org/data/2.5/forecast\"\n\nweather_history = []",
      "metadata": {},
      "outputs": [],
      "execution_count": null
    },
    {
      "cell_type": "code",
      "source": "def get_weather(city):\n    params = {\"q\": city, \"appid\": API_KEY, \"units\": \"metric\", \"lang\": \"ru\"}\n    response = requests.get(BASE_URL, params=params)\n    if response.status_code == 200:\n        data = response.json()\n        weather_data = {\n            \"Город\": data[\"name\"],\n            \"Температура\": data[\"main\"][\"temp\"],\n            \"Описание\": data[\"weather\"][0][\"description\"],\n            \"Время\": datetime.now()\n        }\n        weather_history.append(weather_data)\n        print(f\"{weather_data['Город']}: {weather_data['Температура']}°C, {weather_data['Описание']}\")\n    else:\n        print(\"Ошибка при получении данных.\")",
      "metadata": {},
      "outputs": [],
      "execution_count": null
    },
    {
      "cell_type": "code",
      "source": "def plot_weather():\n    if not weather_history:\n        print(\"Нет данных для отображения.\")\n        return\n\n    df = pd.DataFrame(weather_history)\n    plt.figure(figsize=(10, 6))\n    sns.lineplot(x=\"Время\", y=\"Температура\", data=df, marker=\"o\")\n    plt.title(\"Изменение температуры\")\n    plt.xticks(rotation=45)\n    plt.grid(True)\n    plt.tight_layout()\n    plt.show()",
      "metadata": {},
      "outputs": [],
      "execution_count": null
    },
    {
      "cell_type": "code",
      "source": "def save_to_csv(filename=\"weather_history.csv\"):\n    if not weather_history:\n        print(\"Нет данных для сохранения.\")\n        return\n    df = pd.DataFrame(weather_history)\n    df.to_csv(filename, index=False)\n    print(f\"Сохранено в {filename}\")",
      "metadata": {},
      "outputs": [],
      "execution_count": null
    },
    {
      "cell_type": "code",
      "source": "def get_forecast(city):\n    params = {\"q\": city, \"appid\": API_KEY, \"units\": \"metric\", \"lang\": \"ru\"}\n    response = requests.get(FORECAST_URL, params=params)\n    if response.status_code == 200:\n        data = response.json()\n        forecast_list = data[\"list\"]\n        forecast_df = pd.DataFrame([{\n            \"Время\": datetime.fromtimestamp(item[\"dt\"]),\n            \"Температура\": item[\"main\"][\"temp\"],\n            \"Описание\": item[\"weather\"][0][\"description\"]\n        } for item in forecast_list])\n\n        plt.figure(figsize=(12, 6))\n        sns.lineplot(x=\"Время\", y=\"Температура\", data=forecast_df, marker=\"o\")\n        plt.title(f\"Прогноз погоды: {city}\")\n        plt.xticks(rotation=45)\n        plt.grid(True)\n        plt.tight_layout()\n        plt.show()\n    else:\n        print(\"Не удалось получить прогноз.\")",
      "metadata": {},
      "outputs": [],
      "execution_count": null
    },
    {
      "cell_type": "code",
      "source": "# Пример использования:\nget_weather(\"Москва\")\nget_weather(\"Краков\")\nplot_weather()\nsave_to_csv()\nget_forecast(\"Москва\")",
      "metadata": {},
      "outputs": [],
      "execution_count": null
    }
  ],
  "metadata": {
    "kernelspec": {
      "name": "python3",
      "language": "python",
      "display_name": "Python 3"
    },
    "language_info": {
      "name": "python",
      "version": "3.x"
    }
  },
  "nbformat": 4,
  "nbformat_minor": 2
}